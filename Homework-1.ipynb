{
 "cells": [
  {
   "cell_type": "markdown",
   "metadata": {},
   "source": [
    "<p class='notebook_header'><b>CS 309 - Robot Learning</b></p>\n",
    "<p class='notebook_header'>Homework 1 - Adam Howard and Branden Heng</p>\n",
    "<hr class='separate' />"
   ]
  },
  {
   "cell_type": "markdown",
   "metadata": {},
   "source": [
    "<p class='section_header'><b>Part 1: Linear Algebra</b></p>"
   ]
  },
  {
   "cell_type": "markdown",
   "metadata": {},
   "source": [
    "Implement the following matrix/vector functions using NumPy operations.\n",
    "\n",
    "If the function's operation isn't possible for matrix or vector inputs, return None."
   ]
  },
  {
   "cell_type": "code",
   "execution_count": 1,
   "metadata": {},
   "outputs": [],
   "source": [
    "import numpy as np"
   ]
  },
  {
   "cell_type": "code",
   "execution_count": 2,
   "metadata": {},
   "outputs": [],
   "source": [
    "def add(a, b):\n",
    "    return a + b\n",
    "\n",
    "def subtract(a, b):\n",
    "    return a - b\n",
    "\n",
    "def multiply(a, b):\n",
    "    return np.dot(a, b)\n",
    "\n",
    "def divide(a, b):\n",
    "    return None\n",
    "\n",
    "def transpose(a):\n",
    "    return a.T\n",
    "\n",
    "def two_norm(a):\n",
    "    return np.linalg.norm(a)"
   ]
  },
  {
   "cell_type": "markdown",
   "metadata": {},
   "source": [
    "<p>Using your code from above, solve the following equations. If an operation isn't possible, put None or comment with \"Not Possible\".</p>"
   ]
  },
  {
   "cell_type": "markdown",
   "metadata": {},
   "source": [
    "$$\n",
    "u = \\begin{bmatrix} 2 \\\\ 3 \\\\ 9 \\end{bmatrix}, \\:\n",
    "v = \\begin{bmatrix} -2 \\\\ 1 \\\\ 8 \\end{bmatrix}\n",
    "$$  \n"
   ]
  },
  {
   "cell_type": "code",
   "execution_count": 3,
   "metadata": {},
   "outputs": [],
   "source": [
    "u = np.array([\n",
    "    [2],\n",
    "    [3],\n",
    "    [9]\n",
    "])\n",
    "\n",
    "v = np.array([\n",
    "    [-2],\n",
    "    [1],\n",
    "    [8]\n",
    "])"
   ]
  },
  {
   "cell_type": "markdown",
   "metadata": {},
   "source": [
    "$$ u + v = \\begin{bmatrix} ? \\end{bmatrix} $$  \n",
    "\n",
    "$$ u - v = \\begin{bmatrix} ? \\end{bmatrix} $$  \n",
    "\n",
    "$$ u * v = \\begin{bmatrix} ? \\end{bmatrix} $$  \n",
    "\n",
    "$$ u \\div v = \\begin{bmatrix} ? \\end{bmatrix} $$  \n"
   ]
  },
  {
   "cell_type": "code",
   "execution_count": 4,
   "metadata": {},
   "outputs": [
    {
     "name": "stdout",
     "output_type": "stream",
     "text": [
      "[[ 0]\n",
      " [ 4]\n",
      " [17]]\n",
      "\n",
      "[[4]\n",
      " [2]\n",
      " [1]]\n",
      "\n",
      "[[71]]\n"
     ]
    }
   ],
   "source": [
    "# YOUR CODE HERE - Completed\n",
    "\n",
    "u_plus_v = add(u, v)\n",
    "print(u_plus_v, end = '\\n\\n')\n",
    "\n",
    "u_minus_v = subtract(u, v)\n",
    "print(u_minus_v, end = '\\n\\n')\n",
    "\n",
    "u_mult_v = multiply(u.T, v)\n",
    "print(u_mult_v)\n",
    "\n",
    "# This operation is not possible\n",
    "u_div_v = None"
   ]
  },
  {
   "cell_type": "markdown",
   "metadata": {},
   "source": [
    "$$ u^{\\;T} * v = \\; ? $$  \n",
    "\n",
    "$$ u * v^{\\;T} = \\begin{bmatrix} ? \\end{bmatrix} $$  \n",
    "\n",
    "$$ u^{\\;T} * u = \\; ? $$  \n",
    "\n",
    "$$ \\left \\| u \\right \\|_{2}^{2} = ? $$  \n"
   ]
  },
  {
   "cell_type": "code",
   "execution_count": 5,
   "metadata": {},
   "outputs": [
    {
     "name": "stdout",
     "output_type": "stream",
     "text": [
      "[[71]]\n",
      "\n",
      "[[ -4   2  16]\n",
      " [ -6   3  24]\n",
      " [-18   9  72]]\n",
      "\n",
      "[[94]]\n",
      "\n",
      "9.695359714832659\n"
     ]
    }
   ],
   "source": [
    "# YOUR CODE HERE - Completed\n",
    "\n",
    "u_transpose_v = multiply(u.T, v)\n",
    "print(u_transpose_v, end = '\\n\\n')\n",
    "\n",
    "u_v_transpose = np.outer(u, v.T)\n",
    "print(u_v_transpose, end = '\\n\\n')\n",
    "\n",
    "u_transpose_u = multiply(u.T, u)\n",
    "print(u_transpose_u, end = '\\n\\n')\n",
    "\n",
    "two_norm_u = two_norm(u)\n",
    "print(two_norm_u)"
   ]
  },
  {
   "cell_type": "markdown",
   "metadata": {},
   "source": [
    "<hr class='light-separate' />"
   ]
  },
  {
   "cell_type": "markdown",
   "metadata": {},
   "source": [
    "$$\n",
    "A = \\begin{bmatrix} 1 & 6 & 5\\\\ 0 & -4 & -1\\\\ 7 & 2 & 3 \\end{bmatrix}, \\: \n",
    "B = \\begin{bmatrix} 3 & 1 & 1\\\\ 4 & -1 & 7\\\\ 7 & 0 & 0 \\end{bmatrix}\n",
    "$$  \n"
   ]
  },
  {
   "cell_type": "markdown",
   "metadata": {},
   "source": [
    "$$ A + B = \\begin{bmatrix} ? \\end{bmatrix} $$  \n",
    "\n",
    "$$ A - B = \\begin{bmatrix} ? \\end{bmatrix} $$  \n",
    "\n",
    "$$ A * B = \\begin{bmatrix} ? \\end{bmatrix} $$  \n",
    "\n",
    "$$ A \\div B = \\begin{bmatrix} ? \\end{bmatrix} $$  \n"
   ]
  },
  {
   "cell_type": "code",
   "execution_count": 6,
   "metadata": {},
   "outputs": [
    {
     "name": "stdout",
     "output_type": "stream",
     "text": [
      "[[ 4  7  6]\n",
      " [ 4 -5  6]\n",
      " [14  2  3]]\n",
      "\n",
      "[[-2  5  4]\n",
      " [-4 -3 -8]\n",
      " [ 0  2  3]]\n",
      "\n",
      "[[ 62  -5  43]\n",
      " [-23   4 -28]\n",
      " [ 50   5  21]]\n"
     ]
    }
   ],
   "source": [
    "# YOUR CODE HERE - Completed\n",
    "\n",
    "A = np.array([[1, 6, 5],\n",
    "              [0, -4, -1],\n",
    "              [7, 2, 3]])\n",
    "\n",
    "B = np.array([[3, 1, 1],\n",
    "              [4, -1, 7],\n",
    "              [7, 0, 0]])\n",
    "\n",
    "a_plus_b = add(A, B)\n",
    "print(a_plus_b, end = '\\n\\n')\n",
    "\n",
    "a_minus_b = subtract(A, B)\n",
    "print(a_minus_b, end = '\\n\\n')\n",
    "\n",
    "a_mult_b = multiply(A, B)\n",
    "print(a_mult_b)\n",
    "\n",
    "# This operation is not possible\n",
    "a_div_b = None"
   ]
  },
  {
   "cell_type": "markdown",
   "metadata": {},
   "source": [
    "<hr class='light-separate' />"
   ]
  },
  {
   "cell_type": "markdown",
   "metadata": {},
   "source": [
    "$$\n",
    "C = \\begin{bmatrix} 5 & 1 \\\\ -1 & 7 \\\\ 3 & 0 \\end{bmatrix}\n",
    "$$  \n"
   ]
  },
  {
   "cell_type": "code",
   "execution_count": 7,
   "metadata": {},
   "outputs": [],
   "source": [
    "c = np.array([[5, 1],\n",
    "              [-1, 7],\n",
    "              [3, 0]])"
   ]
  },
  {
   "cell_type": "markdown",
   "metadata": {},
   "source": [
    "Right Pseudo Inverse of C:\n",
    "$$ \\begin{bmatrix} 0 & -0.0625 & 0.5 \\\\ 0.0625 & 0.125 & 0.125 \\end{bmatrix} $$  \n",
    " \n",
    "\n",
    "Left Pseudo Inverse of C:\n",
    "$$ \\begin{bmatrix} 0.1443299 & -0.02061856 & 0.08591065 \\\\ 0.0257732 & 0.13917526 & 0.00343643 \\end{bmatrix} $$  "
   ]
  },
  {
   "cell_type": "code",
   "execution_count": 8,
   "metadata": {},
   "outputs": [
    {
     "name": "stdout",
     "output_type": "stream",
     "text": [
      "[[ 0.     -0.0625  0.5   ]\n",
      " [ 0.0625  0.125   0.125 ]]\n",
      "\n",
      "[[ 0.1443299  -0.02061856  0.08591065]\n",
      " [ 0.0257732   0.13917526  0.00343643]]\n"
     ]
    }
   ],
   "source": [
    "# YOUR CODE HERE - Completed\n",
    "\n",
    "right_pinv = multiply(c.T, np.linalg.inv(multiply(c, c.T)))\n",
    "print(right_pinv, end = '\\n\\n')\n",
    "\n",
    "left_pinv = multiply(np.linalg.inv(multiply(c.T, c)), c.T)\n",
    "print(left_pinv)"
   ]
  },
  {
   "cell_type": "markdown",
   "metadata": {},
   "source": [
    "<hr class='separate' />"
   ]
  },
  {
   "cell_type": "markdown",
   "metadata": {},
   "source": [
    "<p class='section_header'><b>Part 2: Regression</b></p>"
   ]
  },
  {
   "cell_type": "markdown",
   "metadata": {},
   "source": [
    "**Write** the equation for Ordinary Least Squares below. \n",
    "\n",
    "$$ \\Theta = (x^{T}x)^{-1} * x^{T} * y $$"
   ]
  },
  {
   "cell_type": "markdown",
   "metadata": {},
   "source": [
    "**Explain** Ordinary Least Squares in terms of what it optimizes.\n",
    "\n",
    "**Explanation:** The purpose of OLS is to draw a regression line through a collection of data that results in the smallest sum of squared residuals. This value can be found for each data point by finding the y-distance from the data point to the regression line, and squaring it. The line created that has the lowest sum (the addition of the described operation performed on each data point) is the optimal line for the data based on this regression method."
   ]
  },
  {
   "cell_type": "code",
   "execution_count": 9,
   "metadata": {
    "scrolled": true
   },
   "outputs": [],
   "source": [
    "# Don't change this cell!\n",
    "# Load in the data about the study on students\n",
    "train = np.loadtxt('train.csv', delimiter=',')\n",
    "x_0, x_1, x_2, y = train.T\n",
    "X_train = np.array([x_0, x_1, x_2]).T\n",
    "Y_train = np.expand_dims(y, 1)\n",
    "\n",
    "test = np.loadtxt('test.csv', delimiter=',')\n",
    "x_0, x_1, x_2, y = test.T\n",
    "X_test = np.array([x_0, x_1, x_2]).T\n",
    "Y_test = np.expand_dims(y, 1)"
   ]
  },
  {
   "cell_type": "markdown",
   "metadata": {},
   "source": [
    "There was an imaginary study done on 101 students at Crest University. The study surveyed students for the amount they have spent on electronics, books, pencils, and food."
   ]
  },
  {
   "cell_type": "markdown",
   "metadata": {},
   "source": [
    "Given that the **amount students spend on electronics ($Y$)** is linearly related to the **amount they spend on books ($ X_{0} $), pencils ($ X_{1}$)**, and **food ($ X_{2}$)**, \n",
    "**implement** the Ordinary Least Squares method to model this regression problem.\n",
    "\n",
    "The data is read in from the previous cell code. **X_train** has the input features, while **Y_train** has corresponding target outputs.\n",
    "\n",
    "After finding a solution, try to measure the error between your predictions and the ground truth. "
   ]
  },
  {
   "cell_type": "code",
   "execution_count": 28,
   "metadata": {},
   "outputs": [
    {
     "name": "stdout",
     "output_type": "stream",
     "text": [
      "[[-3884.63897009]\n",
      " [-9717.11198125]\n",
      " [ 1943.82567058]]\n",
      "\n",
      "[[-38358.89260064]\n",
      " [-95902.72468824]\n",
      " [ 19180.94784402]]\n",
      "\n",
      "22.945401691675993\n"
     ]
    }
   ],
   "source": [
    "# TODO: Create code for OLS here. DO NOT use any other libraries in your first implementation.\n",
    "\n",
    "def OLS(X, y):\n",
    "    theta = np.linalg.solve(np.dot(X.T, X), np.dot(X.T, y))\n",
    "    return theta\n",
    "\n",
    "# TODO: check against training data\n",
    "theta_0 = OLS(X_train, Y_train)\n",
    "print(theta_0, end = '\\n\\n')\n",
    "\n",
    "# TODO: test your model on testing data\n",
    "theta_1 = OLS(X_test, Y_test)\n",
    "print(theta_1, end = '\\n\\n')\n",
    "Y_pred = np.dot(X_test, theta_1)\n",
    "result = np.square(np.subtract(Y_test, Y_pred)).mean()\n",
    "print(result)"
   ]
  },
  {
   "cell_type": "markdown",
   "metadata": {},
   "source": [
    "**Explain** what collinearity is.\n",
    "\n",
    "**Explanation:** Collinearity is a term that describes two independent variables in a regression function that are correlated. This means that they are closely related to one another, as through a functional relationship."
   ]
  },
  {
   "cell_type": "markdown",
   "metadata": {},
   "source": [
    "**Write** the equation for Ridge Regression below.\n",
    "$$ \\Theta = ((\\Phi^{T} \\Phi) + (\\lambda I))^{-1} * (\\Phi^{T} y) $$"
   ]
  },
  {
   "cell_type": "markdown",
   "metadata": {},
   "source": [
    "**Explain** the purpose of ridge regression and its advantages and disadvantages over OLS.\n",
    "\n",
    "**Explanation:** The most significant issue with OLS regression is that the regression line is very susceptible to being significantly skewed by data outliers. What ridge regression does is 'punish' the outlying data points in order to create a more accurate regression model. OLS also has issues with multicollinearity also that are accounted for in ridge regression."
   ]
  },
  {
   "cell_type": "markdown",
   "metadata": {},
   "source": [
    "**Implement** your regression model with ridge regression below."
   ]
  },
  {
   "cell_type": "code",
   "execution_count": 29,
   "metadata": {},
   "outputs": [
    {
     "name": "stdout",
     "output_type": "stream",
     "text": [
      "[[ 1.92519992]\n",
      " [-0.7015006 ]\n",
      " [ 0.54357729]]\n",
      "\n",
      "[[ 1.80989722]\n",
      " [-0.97587051]\n",
      " [ 0.59920797]]\n",
      "\n",
      "23.495653452967773\n"
     ]
    }
   ],
   "source": [
    "# TODO: Create code for Ridge Regression here. DO NOT use any other libraries.\n",
    "\n",
    "def RR(X, y, ridge=0.001):\n",
    "    product = multiply(X.T, X)\n",
    "    rows = product.shape[0]\n",
    "    theta = multiply(multiply(np.linalg.inv(add(product, ridge * np.identity(rows))), X.T), y)\n",
    "    return theta\n",
    "\n",
    "# TODO: check against training data\n",
    "theta = RR(X_train, Y_train)\n",
    "print(theta, end = '\\n\\n')\n",
    "\n",
    "# TODO: test your model on testing data\n",
    "theta = RR(X_test, Y_test)\n",
    "print(theta, end = '\\n\\n')\n",
    "Y_pred = np.dot(X_test, theta)\n",
    "result = np.square(np.subtract(Y_test, Y_pred)).mean()\n",
    "print(result)"
   ]
  },
  {
   "cell_type": "markdown",
   "metadata": {},
   "source": [
    "**Explain** the differences ridge regression created for theta compared to OLS, and why these differences even exist. Also try different values for the ridge parameters and describe how they affect your results.\n",
    "\n",
    "**Explanation:** Ridge regression created a regression model that was much more accurate than the one that was created from OLS regression. These differences exist because ridge regression limits the influence of outlying data values whenever creating a regression model for the data. When altering the ridge variable for Ridge Regression though, it appeared that when the value was increased, the penalty term was of more effect, and when it was decreased, it lessened the effect of the punishment term in creating the regression line."
   ]
  },
  {
   "cell_type": "markdown",
   "metadata": {},
   "source": [
    "There are other regularizers other than ridge regression, such as LASSO. **Explain** the differences between LASSO and Ridge Regression and how it changes the solution mathematically.\n",
    "\n",
    "**Explanation:** LASSO can sometimes result in the loss of data which will lead to models that are lackluster. This is because LASSO deals in L1 regularization whereas Ridge Regression uses L2 regularization. L1 and L2 are different in terms of their punishment term. LASSO will reduce less important data completely through the L1's punishment term, which is not desired in every case."
   ]
  },
  {
   "cell_type": "code",
   "execution_count": 62,
   "metadata": {},
   "outputs": [
    {
     "name": "stdout",
     "output_type": "stream",
     "text": [
      "[ 2.99099792  2.01763613 -0.00368638]\n",
      "\n",
      "[2.99318387e+00 1.99720599e+00 2.22150120e-03]\n",
      "\n",
      "46239.34132635852\n"
     ]
    }
   ],
   "source": [
    "# TODO: Create code for LASSO here\n",
    " \n",
    "from sklearn import linear_model\n",
    "\n",
    "def LASSO(X, y, ridge=.001):\n",
    "    line = linear_model.Lasso(alpha = ridge)\n",
    "    line.fit(X, y)\n",
    "    return line.coef_\n",
    "\n",
    "# TODO: check against training data\n",
    "theta = LASSO(X_train, Y_train)\n",
    "print(theta, end = '\\n\\n')\n",
    "\n",
    "# TODO: check against testing data\n",
    "theta = LASSO(X_test, Y_test)\n",
    "print(theta, end = '\\n\\n')\n",
    "Y_pred = np.dot(X_test, theta)\n",
    "result = np.square(np.subtract(Y_test, Y_pred)).mean()\n",
    "print(result)"
   ]
  },
  {
   "cell_type": "markdown",
   "metadata": {},
   "source": [
    "**Explain** the effect elastic nets had on your values for theta compared to OLS. Also try different values for the ridge parameters and describe how they affect your results.\n",
    "\n",
    "**Explanation:** When using Elastic Net Regularizatin for the data, the mean distance of each point from the regression line seems to be much larger than when using OLS. Whenever the ridge value was changed for the Elastic Nets method, it hardly changed the mean y-distance of each data point from the regression line, but it appears that the mean y-distance decreased as the ridge value increased."
   ]
  },
  {
   "cell_type": "code",
   "execution_count": 31,
   "metadata": {},
   "outputs": [
    {
     "name": "stdout",
     "output_type": "stream",
     "text": [
      "[24.79648533 41.67033897  5.17022768]\n",
      "\n",
      "[24.79648533 41.67033897  5.17022768]\n",
      "\n",
      "422224957.31703436\n"
     ]
    }
   ],
   "source": [
    "# TODO: Create code for Elastic Nets here. You can use a library such as scipy\n",
    "# Code borrowed from Scipy page: https://scikit-learn.org/stable/modules/generated/sklearn.linear_model.ElasticNet.html\n",
    "\n",
    "from sklearn.linear_model import ElasticNet\n",
    "from sklearn.datasets import make_regression\n",
    "    \n",
    "def EN(X,y):\n",
    "    X, y = make_regression(n_features = 3, random_state = 0)\n",
    "    regr = ElasticNet(random_state = 0)\n",
    "    regr.fit(X, y)\n",
    "    return regr.coef_\n",
    "\n",
    "# TODO: check against training data\n",
    "theta = EN(X_train, Y_train)\n",
    "print(theta, end = '\\n\\n')\n",
    "\n",
    "# TODO: check against testing data\n",
    "theta = EN(X_test, Y_test)\n",
    "print(theta, end = '\\n\\n')\n",
    "Y_pred = np.dot(X_test, theta)\n",
    "result = np.square(np.subtract(Y_test, Y_pred)).mean()\n",
    "print(result)"
   ]
  },
  {
   "cell_type": "markdown",
   "metadata": {},
   "source": [
    "**Explain** the differences between LASSO, Ridge Regression and Elastic Nets and how it changes the solution mathematically.\n",
    "\n",
    "**Explanation:** LASSO and Ridge Regression both have the possibility of underfitting or overfitting the regression line that is created for a group of data, as they are calculated with a single regularizer. With Elastic Nets, however, L1 and L2 regularization are combined, producing a model that more properly fits the data."
   ]
  },
  {
   "cell_type": "markdown",
   "metadata": {},
   "source": [
    "**Explain** the purpose of a regularizer.\n",
    "\n",
    "**Explanation:** The purpose of a regularizer in a regression function is to limit the importance of outlying data values with multicollinear data points. This 'regulation' of these outlying data points assists in the creation of a more accurate regression model. It also seeks to prevent the overfitting or underfitting of a regression model through a collection of data."
   ]
  },
  {
   "cell_type": "markdown",
   "metadata": {},
   "source": [
    "Give two examples where a regularizer would give more robust models.\n",
    "\n",
    "**Examples:** One example where a regularizer would benefit a predictive data model is in a model representing the relationship between a country's GDP and its per capita income. As one would expect, as a country's GDP increases, its per capita income is likely to increase also, and a regularizer would limit the influence of certain countries where this trend isn't necessarily true. A second example where using a regularizer can provide a more robust model is when looking for correlations between quality of education and poverty within a region, a regularizer can be utilized to find a model that isn't overfitting."
   ]
  },
  {
   "cell_type": "markdown",
   "metadata": {},
   "source": [
    "**Explain** with reference to the dataset why a regularizer achieved better performance than OLS.\n",
    "\n",
    "**Explanation:** A specific example that we identified in the file test.csv are students 7 and 12 who spent roughly the same amount on electronics, but differing amounts on the other items. In total, Student 7 spent roughly 1,556.2 credits on items $x_{0}, x_{1}$, and $x_{2}$, and Student 2 spent roughly 1,786.5 credits on those items. Given how the x-values differed between the two students, when creating a regression line using OLS regression, the line would most likely be a skewed representation of the data. However, when adding a regularizer, the margin of error that is present using OLS is decreased, making it a better representation of the relationship between the data points."
   ]
  },
  {
   "cell_type": "markdown",
   "metadata": {},
   "source": [
    "<hr class='light-separate' />"
   ]
  },
  {
   "cell_type": "markdown",
   "metadata": {},
   "source": [
    "Implement feature transformation to fit a line to the curve generated from the .csv file."
   ]
  },
  {
   "cell_type": "code",
   "execution_count": 32,
   "metadata": {},
   "outputs": [],
   "source": [
    "X = np.genfromtxt('feature_transform.csv', delimiter=',')\n",
    "y = X[:,2].reshape(500, 1)\n",
    "X = X[:,:2]"
   ]
  },
  {
   "cell_type": "code",
   "execution_count": 54,
   "metadata": {
    "scrolled": true
   },
   "outputs": [
    {
     "data": {
      "image/png": "[encoded data removed]",
      "text/plain": [
       "<Figure size 432x288 with 1 Axes>"
      ]
     },
     "metadata": {
      "needs_background": "light"
     },
     "output_type": "display_data"
    }
   ],
   "source": [
    "# TODO: Write the lambda function phi which will transform X\n",
    "# TODO: Plot the transformation and the resulting line after transforming\n",
    "# Code borrowed from Ilham's Office Hours\n",
    "import matplotlib.pyplot as plt\n",
    "\n",
    "def phi(x, degree):\n",
    "    columns = []\n",
    "    n = len(x)\n",
    "    for i in range(degree + 1):\n",
    "        if (i == 0):\n",
    "            columns.append(np.ones(n))\n",
    "        else:\n",
    "            columns.append(x**i)\n",
    "    X = np.matrix(columns).T\n",
    "    return X\n",
    "\n",
    "X_new = phi(X[:,0], 3)\n",
    "theta = OLS(X_new, y)\n",
    "coef = np.array(theta).ravel()\n",
    "phi_plot = np.linspace(0, 1, 500)\n",
    "\n",
    "def poly_coefficients(x, coefs):\n",
    "    k = len(coefs)\n",
    "    y = 0\n",
    "    for i in range(k):\n",
    "        y += coefs[i] * (x**i)\n",
    "    return y\n",
    "\n",
    "y = poly_coefficients(phi_plot, coef)\n",
    "\n",
    "plt.plot(phi_plot,y,color=(0.0,0.5,0.0))\n",
    "\n",
    "plt.xlabel('X')\n",
    "plt.ylabel('Y')\n",
    "plt.show()"
   ]
  },
  {
   "cell_type": "markdown",
   "metadata": {},
   "source": [
    "<hr class='light-separate' />"
   ]
  },
  {
   "cell_type": "markdown",
   "metadata": {},
   "source": [
    "Recall what you learned about polynomial regression and explain what is happening to the model as you increase the degrees. Run the cell below and use the slider to help you.\n",
    "\n",
    "**Explanation:** When the degree of the regression line is increased from one to ten, the test and train errors have a trend of decreasing, and this makes sense because the data is not linear. However, as the degree increases past ten, the errors siginificantly increase due to the increased importance of outlying data values when plotting the regression line."
   ]
  },
  {
   "cell_type": "code",
   "execution_count": 16,
   "metadata": {},
   "outputs": [
    {
     "data": {
      "application/vnd.jupyter.widget-view+json": {
       "model_id": "ece72f94322c40a3856b8f35c96683b9",
       "version_major": 2,
       "version_minor": 0
      },
      "text/plain": [
       "interactive(children=(IntSlider(value=1, description='degree', max=20, min=1), Output()), _dom_classes=('widge…"
      ]
     },
     "metadata": {},
     "output_type": "display_data"
    },
    {
     "data": {
      "text/plain": [
       "<function __main__.f(degree)>"
      ]
     },
     "execution_count": 16,
     "metadata": {},
     "output_type": "execute_result"
    }
   ],
   "source": [
    "# DO NOT ALTER\n",
    "\n",
    "import pandas as pd\n",
    "import ipywidgets as widgets\n",
    "from ipywidgets import interact\n",
    "from sklearn.model_selection import train_test_split\n",
    "from sklearn import datasets\n",
    "from sklearn.metrics import mean_squared_error\n",
    "from sklearn.preprocessing import PolynomialFeatures\n",
    "from sklearn.linear_model import LinearRegression\n",
    "from sklearn.pipeline import make_pipeline\n",
    "\n",
    "boston = datasets.load_boston()\n",
    "data = pd.DataFrame(boston.data,columns=boston.feature_names)\n",
    "data = pd.concat([data,pd.Series(boston.target,name='MEDV')],axis=1)\n",
    "\n",
    "X = data[['LSTAT']].values\n",
    "y = data['MEDV']\n",
    "\n",
    "x_train, x_test, y_train, y_test = train_test_split(X,y,test_size=0.3, random_state=42, shuffle=True)\n",
    "\n",
    "temp = pd.DataFrame({'x':x_train.reshape(1, 354)[0], 'y':y_train})\n",
    "temp = temp.sort_values('x')\n",
    "x_train = temp['x'].values.reshape(354,1)\n",
    "y_train = temp['y'].values\n",
    "\n",
    "temp = pd.DataFrame({'x':x_test.reshape(1, 152)[0], 'y':y_test})\n",
    "temp = temp.sort_values('x')\n",
    "x_test = temp['x'].values.reshape(152,1)\n",
    "y_test = temp['y'].values\n",
    "\n",
    "def f(degree):\n",
    "    model = make_pipeline(PolynomialFeatures(degree), LinearRegression())\n",
    "    model.fit(x_train,y_train)\n",
    "    y_plot = model.predict(x_test)\n",
    "    \n",
    "    plt.scatter(x_train, y_train, s=10, color='red', alpha=.3)\n",
    "    plt.scatter(x_test, y_test, s=10)\n",
    "\n",
    "    test_sr = (y_test - y_plot)**2\n",
    "    test_ssr = test_sr.sum()\n",
    "    test_asr = test_ssr/len(test_sr)\n",
    "    \n",
    "    y_plot_train = model.predict(x_train)\n",
    "    train_sr = (y_train - y_plot_train)**2\n",
    "    train_ssr = train_sr.sum()\n",
    "    train_asr = train_ssr/len(train_sr)\n",
    "    \n",
    "    plt.plot(x_test, y_plot, label=\"degree %d\" % degree + '; Test Error: %.2f' % test_asr + '; Train Error: %.2f' % train_asr, color='green')\n",
    "    plt.legend(loc='upper right')\n",
    "    plt.show()\n",
    "    \n",
    "interact(f, degree = widgets.IntSlider(min=1, max=20, step=1, value=1))"
   ]
  }
 ],
 "metadata": {
  "kernelspec": {
   "display_name": "Python 3",
   "language": "python",
   "name": "python3"
  },
  "language_info": {
   "codemirror_mode": {
    "name": "ipython",
    "version": 3
   },
   "file_extension": ".py",
   "mimetype": "text/x-python",
   "name": "python",
   "nbconvert_exporter": "python",
   "pygments_lexer": "ipython3",
   "version": "3.7.9"
  }
 },
 "nbformat": 4,
 "nbformat_minor": 4
}
